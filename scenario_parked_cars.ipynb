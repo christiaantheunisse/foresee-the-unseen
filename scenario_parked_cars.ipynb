{
 "cells": [
  {
   "cell_type": "markdown",
   "metadata": {},
   "source": [
    "# Scenario with parked vehicles"
   ]
  },
  {
   "cell_type": "code",
   "execution_count": 1,
   "metadata": {},
   "outputs": [],
   "source": [
    "import sys  \n",
    "sys.path.insert(0, 'src/')\n",
    "\n",
    "from commonroad.common.file_reader import CommonRoadFileReader\n",
    "from simulate_trajectory import step_simulation\n",
    "from visualizer import Visualizer\n",
    "import yaml\n",
    "import matplotlib.pyplot as plt\n",
    "from matplotlib import animation\n",
    "from IPython.display import HTML"
   ]
  },
  {
   "cell_type": "markdown",
   "metadata": {},
   "source": [
    "### Plot function used for the visualizations"
   ]
  },
  {
   "cell_type": "code",
   "execution_count": 2,
   "metadata": {},
   "outputs": [],
   "source": [
    "def plot(time_step, ego_vehicle, scenarios, sensor_views):\n",
    "    plt.cla()\n",
    "    Visualizer().plot(scenario=scenarios[time_step],\n",
    "                  sensor_view=sensor_views[time_step],\n",
    "                  ego_vehicle=scenarios[time_step].obstacle_by_id(ego_vehicle.obstacle_id),\n",
    "                  time_begin=time_step)\n",
    "    plt.axis('scaled')\n",
    "    plt.xlim(0,120)\n",
    "    plt.ylim(-40,40)"
   ]
  },
  {
   "cell_type": "markdown",
   "metadata": {},
   "source": [
    "### Import the scenario"
   ]
  },
  {
   "cell_type": "code",
   "execution_count": 3,
   "metadata": {},
   "outputs": [
    {
     "name": "stderr",
     "output_type": "stream",
     "text": [
      "/home/christiaan/.virtualenvs/thesis/lib/python3.8/site-packages/commonroad/scenario/lanelet.py:1263: ShapelyDeprecationWarning: STRtree will be changed in 2.0.0 and will not be compatible with versions < 2.\n",
      "  self._strtee = STRtree(list(self._buffered_polygons.values()))\n"
     ]
    }
   ],
   "source": [
    "with open(\"scenario_parked_cars/config_parked.yaml\") as file:\n",
    "    config = yaml.load(file, Loader=yaml.FullLoader)\n",
    "    \n",
    "# scenario1, _ = CommonRoadFileReader(\"scenario_parked_cars/DEU_Ffb-1_parked.xml\").open()\n",
    "# scenario2, _ = CommonRoadFileReader(\"scenario_parked_cars/DEU_Ffb-1_parked.xml\").open()\n",
    "# scenario1, _ = CommonRoadFileReader(\"scenario_parked_cars/DEU_parkedcarsadjusted-1_7_T-1.xml\").open()\n",
    "# scenario2, _ = CommonRoadFileReader(\"scenario_parked_cars/DEU_parkedcarsadjusted-1_7_T-1.xml\").open()\n",
    "scenario1, _ = CommonRoadFileReader(\"my_scenario/ZAM_MyIntersection-1_1_T-1.xml\").open()\n",
    "scenario2, _ = CommonRoadFileReader(\"my_scenario/ZAM_MyIntersection-1_1_T-1.xml\").open()"
   ]
  },
  {
   "cell_type": "markdown",
   "metadata": {},
   "source": [
    "### Simulations (It will take some time)"
   ]
  },
  {
   "cell_type": "code",
   "execution_count": 4,
   "metadata": {},
   "outputs": [
    {
     "ename": "KeyError",
     "evalue": "49574",
     "output_type": "error",
     "traceback": [
      "\u001b[0;31m---------------------------------------------------------------------------\u001b[0m",
      "\u001b[0;31mKeyError\u001b[0m                                  Traceback (most recent call last)",
      "\u001b[1;32m/home/christiaan/foresee-the-unseen/scenario_parked_cars.ipynb Cell 8\u001b[0m line \u001b[0;36m1\n\u001b[0;32m----> <a href='vscode-notebook-cell:/home/christiaan/foresee-the-unseen/scenario_parked_cars.ipynb#X10sZmlsZQ%3D%3D?line=0'>1</a>\u001b[0m track_vehicle, tracked_scenarios, tracked_views \u001b[39m=\u001b[39m step_simulation(scenario1, config)\n\u001b[1;32m      <a href='vscode-notebook-cell:/home/christiaan/foresee-the-unseen/scenario_parked_cars.ipynb#X10sZmlsZQ%3D%3D?line=1'>2</a>\u001b[0m config[\u001b[39m'\u001b[39m\u001b[39mtracking_enabled\u001b[39m\u001b[39m'\u001b[39m] \u001b[39m=\u001b[39m \u001b[39mFalse\u001b[39;00m\n\u001b[1;32m      <a href='vscode-notebook-cell:/home/christiaan/foresee-the-unseen/scenario_parked_cars.ipynb#X10sZmlsZQ%3D%3D?line=2'>3</a>\u001b[0m no_track_vehicle, not_tracked_scenarios, not_tracked_views \u001b[39m=\u001b[39m step_simulation(scenario2, config)\n",
      "File \u001b[0;32m~/foresee-the-unseen/src/simulate_trajectory.py:66\u001b[0m, in \u001b[0;36mstep_simulation\u001b[0;34m(scenario, configuration)\u001b[0m\n\u001b[1;32m     56\u001b[0m ego_vehicle \u001b[39m=\u001b[39m DynamicObstacle(scenario\u001b[39m.\u001b[39mgenerate_object_id(),\n\u001b[1;32m     57\u001b[0m                               ObstacleType\u001b[39m.\u001b[39mCAR, ego_shape,\n\u001b[1;32m     58\u001b[0m                               ego_initial_state)\n\u001b[1;32m     60\u001b[0m sensor \u001b[39m=\u001b[39m Sensor(ego_vehicle\u001b[39m.\u001b[39minitial_state\u001b[39m.\u001b[39mposition,\n\u001b[1;32m     61\u001b[0m                 field_of_view\u001b[39m=\u001b[39mconfiguration\u001b[39m.\u001b[39mget(\n\u001b[1;32m     62\u001b[0m                     \u001b[39m'\u001b[39m\u001b[39mfield_of_view_degrees\u001b[39m\u001b[39m'\u001b[39m)\u001b[39m*\u001b[39m\u001b[39m2\u001b[39m\u001b[39m*\u001b[39mnp\u001b[39m.\u001b[39mpi\u001b[39m/\u001b[39m\u001b[39m360\u001b[39m,\n\u001b[1;32m     63\u001b[0m                 min_resolution\u001b[39m=\u001b[39mconfiguration\u001b[39m.\u001b[39mget(\u001b[39m'\u001b[39m\u001b[39mmin_resolution\u001b[39m\u001b[39m'\u001b[39m),\n\u001b[1;32m     64\u001b[0m                 view_range\u001b[39m=\u001b[39mconfiguration\u001b[39m.\u001b[39mget(\u001b[39m'\u001b[39m\u001b[39mview_range\u001b[39m\u001b[39m'\u001b[39m))\n\u001b[0;32m---> 66\u001b[0m occ_track \u001b[39m=\u001b[39m Occlusion_tracker(scenario,\n\u001b[1;32m     67\u001b[0m                               min_vel\u001b[39m=\u001b[39;49mconfiguration\u001b[39m.\u001b[39;49mget(\u001b[39m'\u001b[39;49m\u001b[39mmin_velocity\u001b[39;49m\u001b[39m'\u001b[39;49m),\n\u001b[1;32m     68\u001b[0m                               max_vel\u001b[39m=\u001b[39;49mconfiguration\u001b[39m.\u001b[39;49mget(\u001b[39m'\u001b[39;49m\u001b[39mmax_velocity\u001b[39;49m\u001b[39m'\u001b[39;49m),\n\u001b[1;32m     69\u001b[0m                               min_shadow_area\u001b[39m=\u001b[39;49mconfiguration\u001b[39m.\u001b[39;49mget(\n\u001b[1;32m     70\u001b[0m                                   \u001b[39m'\u001b[39;49m\u001b[39mmin_shadow_area\u001b[39;49m\u001b[39m'\u001b[39;49m),\n\u001b[1;32m     71\u001b[0m                               prediction_horizon\u001b[39m=\u001b[39;49mconfiguration\u001b[39m.\u001b[39;49mget(\n\u001b[1;32m     72\u001b[0m                                   \u001b[39m'\u001b[39;49m\u001b[39mprediction_horizon\u001b[39;49m\u001b[39m'\u001b[39;49m),\n\u001b[1;32m     73\u001b[0m                               tracking_enabled\u001b[39m=\u001b[39;49mconfiguration\u001b[39m.\u001b[39;49mget(\u001b[39m'\u001b[39;49m\u001b[39mtracking_enabled\u001b[39;49m\u001b[39m'\u001b[39;49m))\n\u001b[1;32m     75\u001b[0m planner \u001b[39m=\u001b[39m Planner(ego_vehicle\u001b[39m.\u001b[39minitial_state,\n\u001b[1;32m     76\u001b[0m                   vehicle_shape\u001b[39m=\u001b[39mego_vehicle\u001b[39m.\u001b[39mobstacle_shape,\n\u001b[1;32m     77\u001b[0m                   goal_point\u001b[39m=\u001b[39m[configuration\u001b[39m.\u001b[39mget(\u001b[39m'\u001b[39m\u001b[39mgoal_point_x\u001b[39m\u001b[39m'\u001b[39m),\n\u001b[0;32m   (...)\u001b[0m\n\u001b[1;32m     81\u001b[0m                   max_deceleration\u001b[39m=\u001b[39mconfiguration\u001b[39m.\u001b[39mget(\u001b[39m'\u001b[39m\u001b[39mmax_deceleration\u001b[39m\u001b[39m'\u001b[39m),\n\u001b[1;32m     82\u001b[0m                   time_horizon\u001b[39m=\u001b[39mconfiguration\u001b[39m.\u001b[39mget(\u001b[39m'\u001b[39m\u001b[39mplanning_horizon\u001b[39m\u001b[39m'\u001b[39m))\n\u001b[1;32m     83\u001b[0m simulation_steps \u001b[39m=\u001b[39m configuration\u001b[39m.\u001b[39mget(\u001b[39m'\u001b[39m\u001b[39msimulation_duration\u001b[39m\u001b[39m'\u001b[39m)\n",
      "File \u001b[0;32m~/foresee-the-unseen/src/occlusion_tracker.py:180\u001b[0m, in \u001b[0;36mOcclusion_tracker.__init__\u001b[0;34m(self, scenario, initial_time_step, min_vel, max_vel, min_shadow_area, initial_sensor_view, prediction_horizon, tracking_enabled)\u001b[0m\n\u001b[1;32m    177\u001b[0m     lanelets_dict[lanelet\u001b[39m.\u001b[39mlanelet_id] \u001b[39m=\u001b[39m lanelet\n\u001b[1;32m    179\u001b[0m \u001b[39mself\u001b[39m\u001b[39m.\u001b[39mlanes \u001b[39m=\u001b[39m []\n\u001b[0;32m--> 180\u001b[0m _lane \u001b[39m=\u001b[39m Lanelet\u001b[39m.\u001b[39mmerge_lanelets(lanelets_dict[\u001b[39m49574\u001b[39;49m], lanelets_dict[\u001b[39m49600\u001b[39m])\n\u001b[1;32m    181\u001b[0m \u001b[39mself\u001b[39m\u001b[39m.\u001b[39mlanes\u001b[39m.\u001b[39mappend(Lanelet\u001b[39m.\u001b[39mmerge_lanelets(_lane, lanelets_dict[\u001b[39m49566\u001b[39m]))\n\u001b[1;32m    182\u001b[0m \u001b[39mself\u001b[39m\u001b[39m.\u001b[39mlanes\u001b[39m.\u001b[39mappend(Lanelet\u001b[39m.\u001b[39mmerge_lanelets(lanelets_dict[\u001b[39m49574\u001b[39m], lanelets_dict[\u001b[39m49590\u001b[39m]))\n",
      "\u001b[0;31mKeyError\u001b[0m: 49574"
     ]
    }
   ],
   "source": [
    "track_vehicle, tracked_scenarios, tracked_views = step_simulation(scenario1, config)\n",
    "config['tracking_enabled'] = False\n",
    "no_track_vehicle, not_tracked_scenarios, not_tracked_views = step_simulation(scenario2, config)"
   ]
  },
  {
   "cell_type": "markdown",
   "metadata": {},
   "source": [
    "### Plots (Same as Figure 12 in the paper)"
   ]
  },
  {
   "cell_type": "code",
   "execution_count": null,
   "metadata": {},
   "outputs": [],
   "source": [
    "# t1 = 0\n",
    "# t2 = 2\n",
    "t1 = 5\n",
    "t2 = 20\n",
    "fig, ax = plt.subplots(1, 2, figsize=(20,13))\n",
    "plt.sca(ax[0])\n",
    "plot(t1, track_vehicle, tracked_scenarios, tracked_views)\n",
    "plt.sca(ax[1])\n",
    "plot(t2, track_vehicle, tracked_scenarios, tracked_views)"
   ]
  },
  {
   "cell_type": "code",
   "execution_count": null,
   "metadata": {},
   "outputs": [],
   "source": [
    "# t1 = 0\n",
    "# t2 = 2\n",
    "t1 = 5\n",
    "t2 = 20\n",
    "fig, ax = plt.subplots(2, 2, figsize=(20,13))\n",
    "plt.sca(ax[0][0])\n",
    "plot(t1, no_track_vehicle, not_tracked_scenarios, not_tracked_views)\n",
    "plt.sca(ax[0][1])\n",
    "plot(t2, no_track_vehicle, not_tracked_scenarios, not_tracked_views)\n",
    "plt.sca(ax[1][0])\n",
    "plot(t1, track_vehicle, tracked_scenarios, tracked_views)\n",
    "plt.sca(ax[1][1])\n",
    "plot(t2, track_vehicle, tracked_scenarios, tracked_views)"
   ]
  },
  {
   "cell_type": "markdown",
   "metadata": {},
   "source": [
    "### Animation of the baseline method"
   ]
  },
  {
   "cell_type": "code",
   "execution_count": null,
   "metadata": {},
   "outputs": [],
   "source": [
    "fig = plt.figure(figsize=(10, 10))\n",
    "anim = animation.FuncAnimation(fig, plot, fargs=[no_track_vehicle, not_tracked_scenarios, not_tracked_views], frames=len(tracked_scenarios), interval=100, blit=False)\n",
    "HTML(anim.to_html5_video())"
   ]
  },
  {
   "cell_type": "markdown",
   "metadata": {},
   "source": [
    "### Animation of the proposed method"
   ]
  },
  {
   "cell_type": "code",
   "execution_count": null,
   "metadata": {
    "scrolled": false
   },
   "outputs": [],
   "source": [
    "fig = plt.figure(figsize=(10, 10))\n",
    "anim = animation.FuncAnimation(fig, plot, fargs=[track_vehicle, tracked_scenarios, tracked_views], frames=len(tracked_scenarios), interval=100, blit=False)\n",
    "HTML(anim.to_html5_video())"
   ]
  },
  {
   "cell_type": "markdown",
   "metadata": {},
   "source": [
    "### Velocity comparison (Same as Figure 13)"
   ]
  },
  {
   "cell_type": "code",
   "execution_count": null,
   "metadata": {},
   "outputs": [],
   "source": [
    "plt.figure(figsize=(12, 4))\n",
    "labels = ['Proposed method','Baseline method']\n",
    "for idx, vehicle in enumerate([track_vehicle, no_track_vehicle]):\n",
    "    velocities = [round(vehicle.initial_state.velocity, 2)]\n",
    "    time = [round(vehicle.initial_state.time_step/10, 2)]\n",
    "    for state in vehicle.prediction.trajectory.state_list:\n",
    "        velocities.append(round(state.velocity, 2))\n",
    "        time.append(round(state.time_step/10, 2))\n",
    "    plt.plot(time, velocities, label=labels[idx])\n",
    "plt.xlabel('Time [s]')\n",
    "plt.ylabel('Velocity [m/s]')\n",
    "plt.ylim(0, 10);"
   ]
  },
  {
   "cell_type": "code",
   "execution_count": null,
   "metadata": {},
   "outputs": [],
   "source": []
  }
 ],
 "metadata": {
  "kernelspec": {
   "display_name": "Python 3 (ipykernel)",
   "language": "python",
   "name": "python3"
  },
  "language_info": {
   "codemirror_mode": {
    "name": "ipython",
    "version": 3
   },
   "file_extension": ".py",
   "mimetype": "text/x-python",
   "name": "python",
   "nbconvert_exporter": "python",
   "pygments_lexer": "ipython3",
   "version": "3.8.10"
  }
 },
 "nbformat": 4,
 "nbformat_minor": 4
}
