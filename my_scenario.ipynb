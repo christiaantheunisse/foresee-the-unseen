{
 "cells": [
  {
   "cell_type": "markdown",
   "metadata": {},
   "source": [
    "# Scenario with parked vehicles"
   ]
  },
  {
   "cell_type": "code",
   "execution_count": null,
   "metadata": {},
   "outputs": [],
   "source": [
    "import sys  \n",
    "sys.path.insert(0, 'src/')\n",
    "\n",
    "from commonroad.common.file_reader import CommonRoadFileReader\n",
    "from simulate_real_robot import step_simulation\n",
    "from visualizer import Visualizer\n",
    "import yaml\n",
    "import matplotlib.pyplot as plt\n",
    "from matplotlib import animation\n",
    "from IPython.display import HTML"
   ]
  },
  {
   "cell_type": "markdown",
   "metadata": {},
   "source": [
    "### Plot function used for the visualizations"
   ]
  },
  {
   "cell_type": "code",
   "execution_count": null,
   "metadata": {},
   "outputs": [],
   "source": [
    "def plot(time_step, ego_vehicle, scenarios, sensor_views):\n",
    "    plt.cla()\n",
    "    Visualizer().plot(scenario=scenarios[time_step],\n",
    "                  sensor_view=sensor_views[time_step],\n",
    "                  ego_vehicle=scenarios[time_step].obstacle_by_id(ego_vehicle.obstacle_id),\n",
    "                  time_begin=time_step,\n",
    "                  time_end=200)\n",
    "    plt.axis('scaled')\n",
    "    plt.xlim(-60,60)\n",
    "    plt.ylim(-50,10)"
   ]
  },
  {
   "cell_type": "markdown",
   "metadata": {},
   "source": [
    "### Import the scenario"
   ]
  },
  {
   "cell_type": "code",
   "execution_count": null,
   "metadata": {},
   "outputs": [],
   "source": [
    "with open(\"my_scenario/config_MyScenario.yaml\") as file:\n",
    "    config = yaml.load(file, Loader=yaml.FullLoader)\n",
    "    \n",
    "scenario1, _ = CommonRoadFileReader(\"my_scenario/ZAM_MyIntersection-1_1_T-1.xml\").open()\n",
    "scenario2, _ = CommonRoadFileReader(\"my_scenario/ZAM_MyIntersection-1_1_T-1.xml\").open()\n",
    "# scenario1.dt = 0.5\n",
    "# scenario2.dt = 0.5"
   ]
  },
  {
   "cell_type": "markdown",
   "metadata": {},
   "source": [
    "### Simulations (It will take some time)"
   ]
  },
  {
   "cell_type": "code",
   "execution_count": null,
   "metadata": {},
   "outputs": [],
   "source": [
    "track_vehicle, tracked_scenarios, tracked_views = step_simulation(scenario1, config)\n",
    "# config['tracking_enabled'] = False\n",
    "# no_track_vehicle, not_tracked_scenarios, not_tracked_views = step_simulation(scenario2, config)"
   ]
  },
  {
   "cell_type": "markdown",
   "metadata": {},
   "source": [
    "### Plots (Same as Figure 12 in the paper)"
   ]
  },
  {
   "cell_type": "code",
   "execution_count": null,
   "metadata": {},
   "outputs": [],
   "source": [
    "# import matplotlib.pyplot as plt\n",
    "\n",
    "# for time_step, scenario in enumerate(tracked_scenarios):\n",
    "#     # ids = [obs.obstacle_id for obs in scenario.dynamic_obstacles]\n",
    "#     # print(ids)\n",
    "#     car = scenario.obstacle_by_id(36)\n",
    "#     if car is not None:\n",
    "#         occupancy = car.occupancy_at_time(time_step)\n",
    "#         plt.plot(*occupancy.shape.vertices.T)\n",
    "#         plt.gca().set_aspect('equal')\n",
    "#         plt.xlim(-60,60)\n",
    "#         plt.ylim(-50,10)\n",
    "\n",
    "\"\"\"\n",
    "    Dynamic obstacle is only visualized/considered when observable. This behaviour is implemented by the sensor class.\n",
    "\"\"\""
   ]
  },
  {
   "cell_type": "code",
   "execution_count": null,
   "metadata": {},
   "outputs": [],
   "source": [
    "# t1 = 0\n",
    "# t2 = 2\n",
    "# t1 = 5\n",
    "# t2 = len(tracked_scenarios) - 1\n",
    "# fig, ax = plt.subplots(2, 2, figsize=(20,13))\n",
    "# plt.sca(ax[0][0])\n",
    "# plot(t1, no_track_vehicle, not_tracked_scenarios, not_tracked_views)\n",
    "# plt.sca(ax[0][1])\n",
    "# plot(t2, no_track_vehicle, not_tracked_scenarios, not_tracked_views)\n",
    "# plt.sca(ax[1][0])\n",
    "# plot(t1, track_vehicle, tracked_scenarios, tracked_views)\n",
    "# plt.sca(ax[1][1])\n",
    "# plot(t2, track_vehicle, tracked_scenarios, tracked_views)\n",
    "\n",
    "# plt.rcParams['figure.dpi'] = 300\n",
    "t1 = 0\n",
    "t2 = 2\n",
    "t1 = 5\n",
    "t2 = len(tracked_scenarios) - 1\n",
    "fig, ax = plt.subplots(1, 2, figsize=(20,13))\n",
    "plt.sca(ax[0])\n",
    "plot(t1, track_vehicle, tracked_scenarios, tracked_views)\n",
    "plt.sca(ax[1])\n",
    "plot(t2, track_vehicle, tracked_scenarios, tracked_views)"
   ]
  },
  {
   "cell_type": "markdown",
   "metadata": {},
   "source": [
    "### Animation of the baseline method"
   ]
  },
  {
   "cell_type": "code",
   "execution_count": null,
   "metadata": {},
   "outputs": [],
   "source": [
    "# fig = plt.figure(figsize=(10, 10))\n",
    "# anim = animation.FuncAnimation(fig, plot, fargs=[no_track_vehicle, not_tracked_scenarios, not_tracked_views], frames=len(tracked_scenarios), interval=100, blit=False)\n",
    "# HTML(anim.to_html5_video())"
   ]
  },
  {
   "cell_type": "markdown",
   "metadata": {},
   "source": [
    "### Animation of the proposed method"
   ]
  },
  {
   "cell_type": "code",
   "execution_count": null,
   "metadata": {
    "scrolled": false
   },
   "outputs": [],
   "source": [
    "fig = plt.figure(figsize=(10, 10))\n",
    "anim = animation.FuncAnimation(fig, plot, fargs=[track_vehicle, tracked_scenarios, tracked_views], frames=len(tracked_scenarios), interval=100, blit=False)\n",
    "HTML(anim.to_html5_video())"
   ]
  },
  {
   "cell_type": "markdown",
   "metadata": {},
   "source": [
    "### Velocity comparison (Same as Figure 13)"
   ]
  },
  {
   "cell_type": "code",
   "execution_count": null,
   "metadata": {},
   "outputs": [],
   "source": [
    "plt.figure(figsize=(12, 4))\n",
    "labels = ['Proposed method','Baseline method']\n",
    "for idx, vehicle in enumerate([track_vehicle, no_track_vehicle]):\n",
    "    velocities = [round(vehicle.initial_state.velocity, 2)]\n",
    "    time = [round(vehicle.initial_state.time_step/10, 2)]\n",
    "    for state in vehicle.prediction.trajectory.state_list:\n",
    "        velocities.append(round(state.velocity, 2))\n",
    "        time.append(round(state.time_step/10, 2))\n",
    "    plt.plot(time, velocities, label=labels[idx])\n",
    "plt.xlabel('Time [s]')\n",
    "plt.ylabel('Velocity [m/s]')\n",
    "plt.ylim(0, 10);"
   ]
  },
  {
   "cell_type": "code",
   "execution_count": null,
   "metadata": {},
   "outputs": [],
   "source": []
  },
  {
   "cell_type": "code",
   "execution_count": null,
   "metadata": {},
   "outputs": [],
   "source": []
  }
 ],
 "metadata": {
  "kernelspec": {
   "display_name": "Python 3 (ipykernel)",
   "language": "python",
   "name": "python3"
  },
  "language_info": {
   "codemirror_mode": {
    "name": "ipython",
    "version": 3
   },
   "file_extension": ".py",
   "mimetype": "text/x-python",
   "name": "python",
   "nbconvert_exporter": "python",
   "pygments_lexer": "ipython3",
   "version": "3.10.12"
  }
 },
 "nbformat": 4,
 "nbformat_minor": 4
}
